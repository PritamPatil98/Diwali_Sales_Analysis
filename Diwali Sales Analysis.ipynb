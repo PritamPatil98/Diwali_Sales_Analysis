{
 "cells": [
  {
   "cell_type": "code",
   "execution_count": 1,
   "id": "293c21b3",
   "metadata": {},
   "outputs": [],
   "source": [
    "# import python libraries\n",
    "\n",
    "import numpy as np \n",
    "import pandas as pd \n",
    "import matplotlib.pyplot as plt # visualizing data\n",
    "%matplotlib inline\n",
    "import seaborn as sns"
   ]
  },
  {
   "cell_type": "code",
   "execution_count": 2,
   "id": "f8eff166",
   "metadata": {},
   "outputs": [],
   "source": [
    "# import csv file\n",
    "\n",
    "df=pd.read_csv(r'C:\\Users\\RSC\\Downloads\\Python_Diwali_Sales_Analysis-main\\Python_Diwali_Sales_Analysis-main\\Diwali Sales Data.csv', encoding='unicode_escape')\n"
   ]
  },
  {
   "cell_type": "code",
   "execution_count": 3,
   "id": "daf93898",
   "metadata": {},
   "outputs": [],
   "source": [
    "df.shape"
   ]
  },
  {
   "cell_type": "code",
   "execution_count": 4,
   "id": "43932c2f",
   "metadata": {},
   "outputs": [],
   "source": [
    "df.head()"
   ]
  },
  {
   "cell_type": "markdown",
   "id": "908e890c",
   "metadata": {},
   "source": [
    "\n",
    "# Data Cleanning\n"
   ]
  },
  {
   "cell_type": "code",
   "execution_count": 5,
   "id": "7eb3c470",
   "metadata": {},
   "outputs": [],
   "source": [
    "# Shows all information of data\n",
    "\n",
    "df.info()"
   ]
  },
  {
   "cell_type": "code",
   "execution_count": 6,
   "id": "21752b0f",
   "metadata": {},
   "outputs": [],
   "source": [
    "# Using .info() function, we get the two columms which has null values\n",
    "# use .drop() function, to delet this column\n",
    "\n",
    "df.drop(['Status','unnamed1'], axis=1, inplace=True)"
   ]
  },
  {
   "cell_type": "code",
   "execution_count": 7,
   "id": "77d1e16c",
   "metadata": {},
   "outputs": [],
   "source": [
    "#check for null values - use .isnull() function\n",
    "\n",
    "pd.isnull(df).sum()"
   ]
  },
  {
   "cell_type": "code",
   "execution_count": 8,
   "id": "1b1ac9d0",
   "metadata": {},
   "outputs": [],
   "source": [
    "# drop null values - use .dropna() function\n",
    "\n",
    "df.dropna(inplace=True)"
   ]
  },
  {
   "cell_type": "code",
   "execution_count": 9,
   "id": "a6cbb142",
   "metadata": {},
   "outputs": [],
   "source": [
    "# change data type - use .astype() function\n",
    "\n",
    "df['Amount'] = df['Amount'].astype('int')"
   ]
  },
  {
   "cell_type": "code",
   "execution_count": 10,
   "id": "07f58223",
   "metadata": {},
   "outputs": [],
   "source": [
    "# Check the datatype of 'Amount' column \n",
    "\n",
    "df['Amount'].dtypes"
   ]
  },
  {
   "cell_type": "code",
   "execution_count": 11,
   "id": "3a3e1116",
   "metadata": {},
   "outputs": [],
   "source": [
    "df.columns"
   ]
  },
  {
   "cell_type": "code",
   "execution_count": 12,
   "id": "cfbfeb54",
   "metadata": {},
   "outputs": [],
   "source": [
    "#rename column\n",
    "df.rename(columns= {'Marital_Status':'Shaadi'})"
   ]
  },
  {
   "cell_type": "code",
   "execution_count": 13,
   "id": "15ff9940",
   "metadata": {},
   "outputs": [],
   "source": [
    "# describe() method returns description of the data in the DataFrame (i.e. count, mean, std, etc)\n",
    "df.describe()"
   ]
  },
  {
   "cell_type": "code",
   "execution_count": 14,
   "id": "e2f9f5f7",
   "metadata": {},
   "outputs": [],
   "source": [
    "# use describe() for specific columns\n",
    "\n",
    "df[['Age', 'Orders', 'Amount']].describe()"
   ]
  },
  {
   "cell_type": "markdown",
   "id": "aacb0916",
   "metadata": {},
   "source": [
    "\n",
    "# Exploratory Data Analysis\n"
   ]
  },
  {
   "cell_type": "markdown",
   "id": "c0cfe7c3",
   "metadata": {},
   "source": [
    "## Gender"
   ]
  },
  {
   "cell_type": "code",
   "execution_count": 15,
   "id": "a5312253",
   "metadata": {},
   "outputs": [],
   "source": [
    "df.columns"
   ]
  },
  {
   "cell_type": "code",
   "execution_count": 16,
   "id": "11cd506d",
   "metadata": {},
   "outputs": [],
   "source": [
    "# plotting a bar chart for Gender and it's count\n",
    "\n",
    "ax=sns.countplot(x='Gender', data=df)\n",
    "\n",
    "for bars in ax.containers:\n",
    "    ax.bar_label(bars)"
   ]
  },
  {
   "cell_type": "code",
   "execution_count": 17,
   "id": "cb16a1e7",
   "metadata": {},
   "outputs": [],
   "source": [
    "df.groupby(['Gender'], as_index=False)['Amount'].sum().sort_values(by='Amount', ascending=False)"
   ]
  },
  {
   "cell_type": "code",
   "execution_count": 18,
   "id": "d6065915",
   "metadata": {},
   "outputs": [],
   "source": [
    "# plotting a bar chart for gender vs total amount\n",
    "\n",
    "sales_gen=df.groupby(['Gender'], as_index=False)['Amount'].sum().sort_values(by='Amount', ascending=False)\n",
    "\n",
    "\n",
    "sns.barplot(x='Gender', y='Amount', data=sales_gen)\n"
   ]
  },
  {
   "cell_type": "markdown",
   "id": "2305c1ac",
   "metadata": {},
   "source": [
    "**From above graphs we can see that most of the buyers are females and even the purchasing power of females are greater than men**"
   ]
  },
  {
   "cell_type": "markdown",
   "id": "9f9924f1",
   "metadata": {},
   "source": [
    "\n",
    "# Age\n",
    "\n"
   ]
  },
  {
   "cell_type": "code",
   "execution_count": 19,
   "id": "966f5959",
   "metadata": {},
   "outputs": [],
   "source": [
    "ax=sns.countplot(data=df,x='Age Group',  hue='Gender')\n",
    "\n",
    "for bars in ax.containers:\n",
    "    ax.bar_label(bars)"
   ]
  },
  {
   "cell_type": "code",
   "execution_count": 20,
   "id": "8f5ebb29",
   "metadata": {},
   "outputs": [],
   "source": [
    "df.groupby(['Age Group'], as_index=False)['Amount'].sum().sort_values(by='Amount', ascending=False)"
   ]
  },
  {
   "cell_type": "code",
   "execution_count": 21,
   "id": "73e96897",
   "metadata": {},
   "outputs": [],
   "source": [
    "# Total Amount vs Age Group\n",
    "\n",
    "sales_age=df.groupby(['Age Group'], as_index=False)['Amount'].sum().sort_values(by='Amount', ascending=False)\n",
    "\n",
    "sns.barplot(x='Age Group', y='Amount', data=sales_age)"
   ]
  },
  {
   "cell_type": "markdown",
   "id": "e5877f41",
   "metadata": {},
   "source": [
    "**From above graphs we can see that most of the buyers are of age group between 26-35 yrs female"
   ]
  },
  {
   "cell_type": "markdown",
   "id": "accba844",
   "metadata": {},
   "source": [
    "\n",
    "\n",
    "# State\n"
   ]
  },
  {
   "cell_type": "code",
   "execution_count": 22,
   "id": "6d2d884e",
   "metadata": {},
   "outputs": [],
   "source": [
    "# total number of orders from top 10 states\n",
    "\n",
    "sales_state=df.groupby(['State'], as_index=False)['Orders'].sum().sort_values(by='Orders', ascending=False).head(10)\n",
    "\n",
    "sns.set(rc={'figure.figsize':(15,5)})\n",
    "sns.barplot(x='State', y='Orders', data=sales_state)"
   ]
  },
  {
   "cell_type": "code",
   "execution_count": 23,
   "id": "b6f948e3",
   "metadata": {},
   "outputs": [],
   "source": [
    "# total amount/sales from top 10 states\n",
    "\n",
    "sales_state=df.groupby(['State'], as_index=False)['Amount'].sum().sort_values(by='Amount', ascending=False).head(10)\n",
    "\n",
    "sns.set(rc={'figure.figsize':(15,5)})\n",
    "sns.barplot(x='State', y='Amount', data=sales_state)"
   ]
  },
  {
   "cell_type": "markdown",
   "id": "9d6f08d7",
   "metadata": {},
   "source": [
    "**From above graphs we can see that most of the orders & total sales/amount are from Uttar Pradesh, Maharashtra and Karnataka respectively\n"
   ]
  },
  {
   "cell_type": "markdown",
   "id": "ef593158",
   "metadata": {},
   "source": [
    "\n",
    "\n",
    "# Marital Status\n"
   ]
  },
  {
   "cell_type": "code",
   "execution_count": 24,
   "id": "298db423",
   "metadata": {},
   "outputs": [],
   "source": [
    "ax=sns.countplot(x='Marital_Status', data=df, hue='Gender')\n",
    "\n",
    "sns.set(rc={'figure.figsize':(6,5)})\n",
    "for bars in ax.containers:\n",
    "    ax.bar_label(bars)"
   ]
  },
  {
   "cell_type": "code",
   "execution_count": 25,
   "id": "13adebdf",
   "metadata": {},
   "outputs": [],
   "source": [
    "df.groupby(['Marital_Status', 'Gender'], as_index=False)['Amount'].sum().sort_values(by='Amount', ascending=False)"
   ]
  },
  {
   "cell_type": "code",
   "execution_count": 26,
   "id": "1580dcec",
   "metadata": {},
   "outputs": [],
   "source": [
    "sales_state = df.groupby(['Marital_Status', 'Gender'], as_index=False)['Amount'].sum().sort_values(by='Amount', ascending=False)\n",
    "\n",
    "sns.set(rc={'figure.figsize':(6,5)})\n",
    "sns.barplot(data = sales_state, x = 'Marital_Status',y= 'Amount', hue='Gender')"
   ]
  },
  {
   "cell_type": "markdown",
   "id": "4713eb8d",
   "metadata": {},
   "source": [
    "**From above graphs we can see that most of the buyers are married (women) and they have high purchasing power"
   ]
  },
  {
   "cell_type": "markdown",
   "id": "127f1fb6",
   "metadata": {},
   "source": [
    "\n",
    "\n",
    "# Occupation\n"
   ]
  },
  {
   "cell_type": "code",
   "execution_count": 27,
   "id": "ee795095",
   "metadata": {},
   "outputs": [],
   "source": [
    "sns.set(rc={'figure.figsize':(20,5)})\n",
    "ax = sns.countplot(data = df, x = 'Occupation')\n",
    "\n",
    "for bars in ax.containers:\n",
    "    ax.bar_label(bars)"
   ]
  },
  {
   "cell_type": "code",
   "execution_count": 28,
   "id": "348b2870",
   "metadata": {},
   "outputs": [],
   "source": [
    "sales_state = df.groupby(['Occupation'], as_index=False)['Amount'].sum().sort_values(by='Amount', ascending=False)\n",
    "\n",
    "sns.set(rc={'figure.figsize':(20,5)})\n",
    "sns.barplot(data = sales_state, x = 'Occupation',y= 'Amount')"
   ]
  },
  {
   "cell_type": "markdown",
   "id": "83d4fa94",
   "metadata": {},
   "source": [
    "**From above graphs we can see that most of the buyers are working in IT, Healthcare and Aviation sector*"
   ]
  },
  {
   "cell_type": "markdown",
   "id": "e62947fa",
   "metadata": {},
   "source": [
    "\n",
    "# Product Category\n",
    "\n"
   ]
  },
  {
   "cell_type": "code",
   "execution_count": 29,
   "id": "d24f74a7",
   "metadata": {},
   "outputs": [],
   "source": [
    "sns.set(rc={'figure.figsize':(20,5)})\n",
    "ax = sns.countplot(data = df, x = 'Product_Category')\n",
    "\n",
    "for bars in ax.containers:\n",
    "    ax.bar_label(bars)"
   ]
  },
  {
   "cell_type": "code",
   "execution_count": 30,
   "id": "8e372117",
   "metadata": {},
   "outputs": [],
   "source": [
    "sales_state = df.groupby(['Product_Category'], as_index=False)['Amount'].sum().sort_values(by='Amount', ascending=False).head(10)\n",
    "\n",
    "sns.set(rc={'figure.figsize':(20,5)})\n",
    "sns.barplot(data = sales_state, x = 'Product_Category',y= 'Amount')"
   ]
  },
  {
   "cell_type": "markdown",
   "id": "ad93d399",
   "metadata": {},
   "source": [
    "**From above graphs we can see that most of the sold products are from Food, Clothing and Electronics category*"
   ]
  },
  {
   "cell_type": "markdown",
   "id": "986402e8",
   "metadata": {},
   "source": [
    "\n",
    "\n",
    "# Conclusion\n",
    "\n"
   ]
  },
  {
   "cell_type": "markdown",
   "id": "7608ddb2",
   "metadata": {},
   "source": [
    "***Married women age group 26-35 yrs from UP, Maharastra and Karnataka working in IT, Healthcare and Aviation are more likely to buy products from Food, Clothing and Electronics category"
   ]
  }
 ],
 "metadata": {
  "kernelspec": {
   "display_name": "Python 3 (ipykernel)",
   "language": "python",
   "name": "python3"
  },
  "language_info": {
   "codemirror_mode": {
    "name": "ipython",
    "version": 3
   },
   "file_extension": ".py",
   "mimetype": "text/x-python",
   "name": "python",
   "nbconvert_exporter": "python",
   "pygments_lexer": "ipython3",
   "version": "3.10.5"
  }
 },
 "nbformat": 4,
 "nbformat_minor": 5
}
